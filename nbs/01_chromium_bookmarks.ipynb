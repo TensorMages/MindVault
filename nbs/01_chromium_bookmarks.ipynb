{
 "cells": [
  {
   "cell_type": "markdown",
   "metadata": {},
   "source": [
    "# Extracting browser bookmarks\n",
    "> Extracting and storing bookmarks from chromium browsers (currently Chrome, Brave and Edge supported)"
   ]
  },
  {
   "cell_type": "code",
   "execution_count": null,
   "metadata": {},
   "outputs": [],
   "source": [
    "# |hide\n",
    "# |default_exp bookmarks.browser.chromium"
   ]
  },
  {
   "cell_type": "code",
   "execution_count": null,
   "metadata": {},
   "outputs": [
    {
     "name": "stdout",
     "output_type": "stream",
     "text": [
      "The autoreload extension is already loaded. To reload it, use:\n",
      "  %reload_ext autoreload\n"
     ]
    }
   ],
   "source": [
    "# |hide\n",
    "%load_ext autoreload\n",
    "%autoreload 2"
   ]
  },
  {
   "cell_type": "code",
   "execution_count": null,
   "metadata": {},
   "outputs": [],
   "source": [
    "# |export\n",
    "import os\n",
    "import sys\n",
    "import json\n",
    "from loguru import logger\n",
    "from pathlib import Path\n",
    "from typing import Dict, Optional, Literal\n",
    "from datetime import date, datetime, timedelta\n",
    "\n",
    "\n",
    "from fastcore.all import patch\n",
    "from pydantic import BaseModel, Field"
   ]
  },
  {
   "cell_type": "code",
   "execution_count": null,
   "metadata": {},
   "outputs": [
    {
     "data": {
      "text/plain": [
       "4"
      ]
     },
     "execution_count": null,
     "metadata": {},
     "output_type": "execute_result"
    }
   ],
   "source": [
    "# |hide\n",
    "# Configure logger\n",
    "log_dir = Path(\"logs\")\n",
    "log_dir.mkdir(exist_ok=True)\n",
    "logger.add(log_dir / \"bookmarks.log\", rotation=\"10 MB\", level=\"INFO\")"
   ]
  },
  {
   "cell_type": "markdown",
   "metadata": {},
   "source": [
    "Schema of how the bookmarks shall be stored:"
   ]
  },
  {
   "cell_type": "code",
   "execution_count": null,
   "metadata": {},
   "outputs": [],
   "source": [
    "# |export\n",
    "class BookmarkModel(BaseModel):\n",
    "    \"\"\"\n",
    "    A model representing a bookmark.\n",
    "    \"\"\"\n",
    "\n",
    "    name: str = Field(..., description=\"The name of the bookmark\")\n",
    "    url: str = Field(..., description=\"The URL of the bookmark\")\n",
    "    folder: str = Field(..., description=\"The folder of the bookmark\")\n",
    "    date_added: date = Field(..., description=\"The date the bookmark was added\")\n",
    "\n",
    "    def __str__(self):\n",
    "        return f\"{self.name} ({self.url}) added on {self.date_added}\"\n",
    "\n",
    "    __repr__ = __str__"
   ]
  },
  {
   "cell_type": "markdown",
   "metadata": {},
   "source": [
    "Browser base model (to be inherited by all supported browsers)"
   ]
  },
  {
   "cell_type": "code",
   "execution_count": null,
   "metadata": {},
   "outputs": [],
   "source": [
    "# |export\n",
    "class ChromiumBrowser(BaseModel):\n",
    "    \"\"\"\n",
    "    Base class for interacting with web browsers' bookmarks\n",
    "    \"\"\"\n",
    "\n",
    "    name: str = Field(..., description=\"The name of the browser\")\n",
    "    user_data_dirs: Dict[str, str] = Field(\n",
    "        ..., description=\"Paths to user data for different OS\"\n",
    "    )\n",
    "    default_bookmarks_filename: str = Field(\n",
    "        ..., description=\"Default filename for the bookmarks file\"\n",
    "    )\n",
    "    operating_system: Optional[str] = Field(\n",
    "        None, description=\"The current operating system\"\n",
    "    )\n",
    "    user_data_dir_path: Optional[Path] = Field(\n",
    "        None, description=\"Path to the user data directory\"\n",
    "    )\n",
    "\n",
    "    def __init__(self, **data):\n",
    "        super().__init__(**data)\n",
    "        self._set_operating_system()\n",
    "        self._set_user_data_dir_path()\n",
    "        logger.info(f\"Initialized {self.name} browser on {self.operating_system}\")\n",
    "        logger.info(f\"User bookmark directory path: {self.user_data_dir_path}\")\n",
    "\n",
    "    def _set_operating_system(self):\n",
    "        if \"win\" in sys.platform.lower():\n",
    "            self.operating_system = \"Windows\"\n",
    "        elif \"mac\" in sys.platform.lower():\n",
    "            self.operating_system = \"Mac\"\n",
    "        elif \"linux\" in sys.platform.lower():\n",
    "            self.operating_system = \"Linux\"\n",
    "        else:\n",
    "            self.operating_system = \"Unknown\"\n",
    "            logger.warning(f\"Unsupported operating system: {self.operating_system}\")\n",
    "\n",
    "    def _set_user_data_dir_path(self):\n",
    "        if self.operating_system in self.user_data_dirs:\n",
    "            self.user_data_dir_path = Path(\n",
    "                os.path.expanduser(self.user_data_dirs[self.operating_system])\n",
    "            )\n",
    "        else:\n",
    "            raise ValueError(f\"Unsupported operating system: {self.operating_system}\")\n",
    "\n",
    "    def get_bookmark_files(self):\n",
    "        chrome_path = Path(self.user_data_dir_path)\n",
    "        # find all bookmarks files\n",
    "        bookmarks_files = list(chrome_path.glob(\"**/*Bookmarks\"))\n",
    "        logger.info(f\"Found {len(bookmarks_files)} bookmarks files\")\n",
    "        # Ignore the snapshot files\n",
    "        bookmarks_files = [\n",
    "            file.as_posix()\n",
    "            for file in bookmarks_files\n",
    "            if \"Snapshot\" not in file.as_posix()\n",
    "        ]\n",
    "        return bookmarks_files\n",
    "\n",
    "    def extract_bookmark_info(\n",
    "        self,\n",
    "        bookmarks_file_path: str,  # path to the bookmarks file\n",
    "    ) -> list[BookmarkModel]:\n",
    "        \"\"\"Extracts bookmark information from a Chrome Bookmarks file.\"\"\"\n",
    "        with open(bookmarks_file_path, \"r\", encoding=\"utf-8\") as f:\n",
    "            bookmarks_data = json.load(f)\n",
    "\n",
    "        bookmarks = []\n",
    "\n",
    "        def traverse_bookmarks(node, folder=None):\n",
    "            \"\"\"Recursively traverses the bookmark tree.\"\"\"\n",
    "            if node[\"type\"] == \"url\":\n",
    "                date_added = self._convert_timestamp(node[\"date_added\"])\n",
    "                bookmarks.append(\n",
    "                    BookmarkModel(\n",
    "                        name=node[\"name\"],\n",
    "                        url=node[\"url\"],\n",
    "                        folder=folder,\n",
    "                        date_added=date_added,\n",
    "                    )\n",
    "                )\n",
    "            elif node[\"type\"] == \"folder\":\n",
    "                for child in node[\"children\"]:\n",
    "                    traverse_bookmarks(child, folder=node[\"name\"])\n",
    "\n",
    "        for root_name, root_node in bookmarks_data[\"roots\"].items():\n",
    "            traverse_bookmarks(root_node, folder=root_name)\n",
    "\n",
    "        return bookmarks\n",
    "\n",
    "    def extract_bookmarks(self) -> list[BookmarkModel]:\n",
    "        \"\"\"Extracts all Chrome Bookmarks from all profiles.\"\"\"\n",
    "        bookmarks_files = self.get_bookmark_files()\n",
    "        bookmarks = []\n",
    "        for bookmarks_file in bookmarks_files:\n",
    "            bookmarks.extend(self.extract_bookmark_info(bookmarks_file))\n",
    "        if len(bookmarks) == 0:\n",
    "            logger.error(f\"No bookmarks found in {self.name}\")\n",
    "            raise ValueError(f\"No bookmarks found in {self.name}\")\n",
    "        else:\n",
    "            logger.info(f\"Extracted {len(bookmarks)} bookmarks\")\n",
    "        return bookmarks\n",
    "\n",
    "    def _convert_timestamp(self, timestamp: int) -> datetime:\n",
    "        # Convert WebKit timestamp (microseconds since 1601-01-01) to datetime\n",
    "        windows_epoch = datetime(1601, 1, 1)\n",
    "        delta = timedelta(microseconds=int(timestamp))\n",
    "        return (windows_epoch + delta).date()"
   ]
  },
  {
   "cell_type": "markdown",
   "metadata": {},
   "source": [
    "Functions of class `ChromiumBrowser` must be over-ridden by child classes, if for some browser different handling of bookmarks is required :/"
   ]
  },
  {
   "cell_type": "markdown",
   "metadata": {},
   "source": [
    "Chrome browser:"
   ]
  },
  {
   "cell_type": "code",
   "execution_count": null,
   "metadata": {},
   "outputs": [],
   "source": [
    "# |export\n",
    "class ChromeBrowser(ChromiumBrowser):\n",
    "    name: str = \"Chrome\"\n",
    "    user_data_dirs: Dict[str, str] = {\n",
    "        \"Windows\": r\"~\\AppData\\Local\\Google\\Chrome\\User Data\", # TODO: Use linux style path if possible\n",
    "        \"Mac\": r\"~/Library/Application Support/Google/Chrome\",\n",
    "        \"Linux\": r\"~/.config/google-chrome\",\n",
    "    }\n",
    "    default_bookmarks_filename: str = \"Bookmarks\""
   ]
  },
  {
   "cell_type": "markdown",
   "metadata": {},
   "source": [
    "Seeing if it works fine:"
   ]
  },
  {
   "cell_type": "markdown",
   "metadata": {},
   "source": [
    "Edge browser:"
   ]
  },
  {
   "cell_type": "code",
   "execution_count": null,
   "metadata": {},
   "outputs": [],
   "source": [
    "# |export\n",
    "class EdgeBrowser(ChromiumBrowser):\n",
    "    name: str = \"Microsoft Edge\"\n",
    "    user_data_dirs: Dict[str, str] = {\n",
    "        \"Windows\": r\"~\\AppData\\Local\\Microsoft\\Edge\\User Data\",\n",
    "        \"Mac\": r\"~/Library/Application Support/Microsoft Edge\",\n",
    "        \"Linux\": r\"~/.config/microsoft-edge\",\n",
    "    }\n",
    "    default_bookmarks_filename: str = \"Bookmarks\""
   ]
  },
  {
   "cell_type": "markdown",
   "metadata": {},
   "source": [
    "Brave:"
   ]
  },
  {
   "cell_type": "code",
   "execution_count": null,
   "metadata": {},
   "outputs": [],
   "source": [
    "# |export\n",
    "class BraveBrowser(ChromiumBrowser):\n",
    "    name: str = \"Brave\"\n",
    "    user_data_dirs: Dict[str, str] = {\n",
    "        \"Windows\": r\"~\\AppData\\Local\\BraveSoftware\\Brave-Browser\",\n",
    "        \"Mac\": r\"~/Library/Application Support/BraveSoftware/Brave-Browser\",\n",
    "        \"Linux\": r\"~/.config/BraveSoftware/Brave-Browser\",\n",
    "    }\n",
    "    default_bookmarks_filename: str = \"Bookmarks\""
   ]
  },
  {
   "cell_type": "code",
   "execution_count": null,
   "metadata": {},
   "outputs": [],
   "source": [
    "def get_bookmarks_from_browser(\n",
    "    browser_name: Literal[\"chrome\", \"edge\", \"brave\"], # type of browser to extract bookmarks from currently supported: chrome, edge, brave\n",
    ") -> list[BookmarkModel]:\n",
    "    \"\"\"\n",
    "    Extracts bookmarks from a specified browser.\n",
    "    \"\"\"\n",
    "    browser_name = browser_name.lower()\n",
    "    if browser_name == \"chrome\":\n",
    "        browser = ChromeBrowser()\n",
    "    elif browser_name == \"edge\":\n",
    "        browser = EdgeBrowser()\n",
    "    elif browser_name == \"brave\":\n",
    "        browser = BraveBrowser()\n",
    "    else:\n",
    "        raise ValueError(f\"Unsupported browser: {browser_name}\")\n",
    "    return browser.extract_bookmarks()"
   ]
  },
  {
   "cell_type": "code",
   "execution_count": null,
   "metadata": {},
   "outputs": [
    {
     "name": "stderr",
     "output_type": "stream",
     "text": [
      "\u001b[32m2024-09-21 12:26:49.568\u001b[0m | \u001b[1mINFO    \u001b[0m | \u001b[36m__main__\u001b[0m:\u001b[36m__init__\u001b[0m:\u001b[36m25\u001b[0m - \u001b[1mInitialized Brave browser on Linux\u001b[0m\n",
      "\u001b[32m2024-09-21 12:26:49.573\u001b[0m | \u001b[1mINFO    \u001b[0m | \u001b[36m__main__\u001b[0m:\u001b[36m__init__\u001b[0m:\u001b[36m26\u001b[0m - \u001b[1mUser bookmark directory path: /home/vedmani/.config/BraveSoftware/Brave-Browser\u001b[0m\n"
     ]
    },
    {
     "name": "stderr",
     "output_type": "stream",
     "text": [
      "\u001b[32m2024-09-21 12:26:50.205\u001b[0m | \u001b[1mINFO    \u001b[0m | \u001b[36m__main__\u001b[0m:\u001b[36mget_bookmark_files\u001b[0m:\u001b[36m51\u001b[0m - \u001b[1mFound 2 bookmarks files\u001b[0m\n",
      "\u001b[32m2024-09-21 12:26:50.327\u001b[0m | \u001b[1mINFO    \u001b[0m | \u001b[36m__main__\u001b[0m:\u001b[36mextract_bookmarks\u001b[0m:\u001b[36m101\u001b[0m - \u001b[1mExtracted 1981 bookmarks\u001b[0m\n"
     ]
    },
    {
     "data": {
      "text/plain": [
       "[Distributed Data Parallel in PyTorch Tutorial Series - YouTube (https://www.youtube.com/playlist?list=PL_lsbAsL_o2CSuhUhJIiW0IkdT5C2wGWj) added on 2023-03-08,\n",
       " Distributed Computing with PyTorch (https://shivgahlout.github.io/2021-05-18-distributed-computing/#:~:text=Rank%20is%20used%20to%20identify,machine%2C%20it%20has%20rank%200.) added on 2023-03-14,\n",
       " python 3.x - Pytorch: Image label - Stack Overflow, pytorch dataset, class names, labels, ids (https://stackoverflow.com/questions/51906144/pytorch-image-label) added on 2023-04-10,\n",
       " python - The difference between \"Subset\" and \"SubsetRandomSampler\" - Stack Overflow (https://stackoverflow.com/questions/69616652/the-difference-between-subset-and-subsetrandomsampler) added on 2023-04-11,\n",
       " torch.utils.data — PyTorch 2.0 documentation (https://pytorch.org/docs/stable/data.html#torch.utils.data.Sampler) added on 2023-04-12,\n",
       " TIMM's `create_model` function with all it's **kwargs | timmdocs (https://timm.fast.ai/create_model) added on 2023-04-12,\n",
       " Getting Started with PyTorch Image Models (timm): A Practitioner’s Guide | by Chris Hughes | Towards Data Science (https://towardsdatascience.com/getting-started-with-pytorch-image-models-timm-a-practitioners-guide-4e77b4bf9055) added on 2023-04-12,\n",
       " huggingface/pytorch-image-models: PyTorch image models, scripts, pretrained weights -- ResNet, ResNeXT, EfficientNet, EfficientNetV2, NFNet, Vision Transformer, MixNet, MobileNet-V3/V2, RegNet, DPN, CSPNet, and more (https://github.com/huggingface/pytorch-image-models/tree/main) added on 2023-04-12,\n",
       " Saving and Loading Models — PyTorch Tutorials 2.0.0+cu117 documentation (https://pytorch.org/tutorials/beginner/saving_loading_models.html) added on 2023-04-16,\n",
       " PyTorch Freeze Layer for fixed feature extractor in Transfer Learning - Knowledge Transfer (https://androidkt.com/pytorch-freeze-layer-fixed-feature-extractor-transfer-learning/#:~:text=We%20have%20access%20to%20all,the%20optimizer%20from%20updating%20them.) added on 2023-04-20]"
      ]
     },
     "execution_count": null,
     "metadata": {},
     "output_type": "execute_result"
    }
   ],
   "source": [
    "#|eval: false\n",
    "bookmarks = get_bookmarks_from_browser(\"brave\")\n",
    "bookmarks[:10]"
   ]
  }
 ],
 "metadata": {
  "kernelspec": {
   "display_name": "python3",
   "language": "python",
   "name": "python3"
  }
 },
 "nbformat": 4,
 "nbformat_minor": 2
}
