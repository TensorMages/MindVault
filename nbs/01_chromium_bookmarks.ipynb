{
 "cells": [
  {
   "cell_type": "markdown",
   "metadata": {},
   "source": [
    "# Extracting browser bookmarks\n",
    "> Extracting and storing bookmarks from potentially all kind of browsers (currently chrome and edge supported)"
   ]
  },
  {
   "cell_type": "code",
   "execution_count": null,
   "metadata": {},
   "outputs": [],
   "source": [
    "#|hide\n",
    "#|default_exp bookmarks.browser.chromium"
   ]
  },
  {
   "cell_type": "code",
   "execution_count": null,
   "metadata": {},
   "outputs": [],
   "source": [
    "#|hide\n",
    "%load_ext autoreload\n",
    "%autoreload 2"
   ]
  },
  {
   "cell_type": "code",
   "execution_count": null,
   "metadata": {},
   "outputs": [],
   "source": [
    "#|export\n",
    "import os\n",
    "import sys\n",
    "import json\n",
    "from loguru import logger\n",
    "from pathlib import Path\n",
    "from typing import Dict, Optional\n",
    "from datetime import date, datetime, timedelta\n",
    "\n",
    "\n",
    "from fastcore.all import patch\n",
    "from pydantic import BaseModel, Field"
   ]
  },
  {
   "cell_type": "code",
   "execution_count": null,
   "metadata": {},
   "outputs": [
    {
     "data": {
      "text/plain": [
       "1"
      ]
     },
     "execution_count": null,
     "metadata": {},
     "output_type": "execute_result"
    }
   ],
   "source": [
    "# Configure logger\n",
    "log_dir = Path(\"logs\")\n",
    "log_dir.mkdir(exist_ok=True)\n",
    "logger.add(log_dir / \"bookmarks.log\", rotation=\"10 MB\", level=\"INFO\")"
   ]
  },
  {
   "cell_type": "markdown",
   "metadata": {},
   "source": [
    "Schema of how the bookmarks shall be stored:"
   ]
  },
  {
   "cell_type": "code",
   "execution_count": null,
   "metadata": {},
   "outputs": [],
   "source": [
    "#|export\n",
    "class BookmarkModel(BaseModel):\n",
    "    \"\"\"\n",
    "    A model representing a bookmark.\n",
    "    \"\"\"\n",
    "\n",
    "    name: str = Field(..., description=\"The name of the bookmark\")\n",
    "    url: str = Field(..., description=\"The URL of the bookmark\")\n",
    "    folder: str = Field(..., description=\"The folder of the bookmark\")\n",
    "    date_added: date = Field(..., description=\"The date the bookmark was added\")\n",
    "\n",
    "    def __str__(self):\n",
    "        return f\"{self.name} ({self.url}) added on {self.date_added}\"\n",
    "\n",
    "    __repr__ = __str__"
   ]
  },
  {
   "cell_type": "markdown",
   "metadata": {},
   "source": [
    "Browser base model (to be inherited by all supported browsers)"
   ]
  },
  {
   "cell_type": "code",
   "execution_count": null,
   "metadata": {},
   "outputs": [],
   "source": [
    "#|export\n",
    "class ChromiumBrowser(BaseModel):\n",
    "    \"\"\"\n",
    "    Base class for interacting with web browsers' bookmarks\n",
    "    \"\"\"\n",
    "    name: str = Field(..., description=\"The name of the browser\")\n",
    "    user_data_dirs: Dict[str, str] = Field(..., description=\"Paths to user data for different OS\")\n",
    "    bookmarks_file_name: str = Field(..., description=\"Name of the bookmarks file\")\n",
    "    operating_system: Optional[str] = Field(None, description=\"The current operating system\")\n",
    "    user_data_dir_path: Optional[Path] = Field(None, description=\"Path to the user data directory\")\n",
    "\n",
    "    def __init__(self, **data):\n",
    "        super().__init__(**data)\n",
    "        self._set_operating_system()\n",
    "        self._set_user_data_dir_path()\n",
    "        logger.info(f\"Initialized {self.name} browser on {self.operating_system}\")\n",
    "        logger.info(f\"User bookmark directory path: {self.user_data_dir_path}\")\n",
    "\n",
    "    def _set_operating_system(self):\n",
    "        if \"win\" in sys.platform.lower():\n",
    "            self.operating_system = \"Windows\"\n",
    "        elif \"mac\" in sys.platform.lower():\n",
    "            self.operating_system = \"Mac\"\n",
    "        elif \"linux\" in sys.platform.lower():\n",
    "            self.operating_system = \"Linux\"\n",
    "        else:\n",
    "            self.operating_system = \"Unknown\"\n",
    "            logger.warning(f\"Unsupported operating system: {self.operating_system}\")\n",
    "\n",
    "    def _set_user_data_dir_path(self):\n",
    "        if self.operating_system in self.user_data_dirs:\n",
    "            self.user_data_dir_path = Path(os.path.expanduser(self.user_data_dirs[self.operating_system]))\n",
    "        else:\n",
    "            raise ValueError(f\"Unsupported operating system: {self.operating_system}\")\n",
    "\n",
    "    def get_bookmark_file(self):\n",
    "        chrome_path = Path(self.user_data_dir_path)\n",
    "        # find all bookmarks files\n",
    "        bookmarks_files = list(chrome_path.glob(\"**/*Bookmarks\"))\n",
    "        # Ignore the snapshot files\n",
    "        bookmarks_files = [\n",
    "            file.as_posix() for file in bookmarks_files if \"Snapshot\" not in file.as_posix()\n",
    "        ]\n",
    "        return bookmarks_files\n",
    "\n",
    "    def extract_bookmark_info(\n",
    "        self,\n",
    "        bookmarks_file_path: str,  # path to the bookmarks file\n",
    "    ) -> list[BookmarkModel]:\n",
    "        \"\"\"Extracts bookmark information from a Chrome Bookmarks file.\"\"\"\n",
    "        with open(bookmarks_file_path, \"r\", encoding=\"utf-8\") as f:\n",
    "            bookmarks_data = json.load(f)\n",
    "\n",
    "        bookmarks = []\n",
    "\n",
    "        def traverse_bookmarks(node, folder=None):\n",
    "            \"\"\"Recursively traverses the bookmark tree.\"\"\"\n",
    "            if node[\"type\"] == \"url\":\n",
    "                date_added = self._convert_timestamp(node[\"date_added\"])\n",
    "                bookmarks.append(\n",
    "                    BookmarkModel(\n",
    "                        name=node[\"name\"],\n",
    "                        url=node[\"url\"],\n",
    "                        folder=folder,\n",
    "                        date_added=date_added,\n",
    "                    )\n",
    "                )\n",
    "            elif node[\"type\"] == \"folder\":\n",
    "                for child in node[\"children\"]:\n",
    "                    traverse_bookmarks(child, folder=node[\"name\"])\n",
    "\n",
    "        for root_name, root_node in bookmarks_data[\"roots\"].items():\n",
    "            traverse_bookmarks(root_node, folder=root_name)\n",
    "\n",
    "        return bookmarks\n",
    "\n",
    "    def extract_bookmarks(self) -> list[BookmarkModel]:\n",
    "        \"\"\"Extracts all Chrome Bookmarks from all profiles.\"\"\"\n",
    "        bookmarks_files = self.get_bookmark_file()\n",
    "        bookmarks = []\n",
    "        for bookmarks_file in bookmarks_files:\n",
    "            bookmarks.extend(self.extract_bookmark_info(bookmarks_file))\n",
    "        if len(bookmarks) == 0:\n",
    "            logger.warning(f\"No bookmarks found in {self.name}\")\n",
    "        else:\n",
    "            logger.info(f\"Extracted {len(bookmarks)} bookmarks\")\n",
    "        return bookmarks\n",
    "\n",
    "    def _convert_timestamp(self, timestamp: int) -> datetime:\n",
    "        # Convert WebKit timestamp (microseconds since 1601-01-01) to datetime\n",
    "        windows_epoch = datetime(1601, 1, 1)\n",
    "        delta = timedelta(microseconds=int(timestamp))\n",
    "        return (windows_epoch + delta).date()"
   ]
  },
  {
   "cell_type": "markdown",
   "metadata": {},
   "source": [
    "Functions of class `ChromiumBrowser` must be over-ridden by child classes, if for some browser different handling of bookmarks is required :/"
   ]
  },
  {
   "cell_type": "markdown",
   "metadata": {},
   "source": [
    "Chrome browser:"
   ]
  },
  {
   "cell_type": "code",
   "execution_count": null,
   "metadata": {},
   "outputs": [],
   "source": [
    "#|export\n",
    "class ChromeBrowser(ChromiumBrowser):\n",
    "    name: str = \"Chrome\"\n",
    "    user_data_dirs: Dict[str, str] = {\n",
    "        \"Windows\": r\"~\\AppData\\Local\\Google\\Chrome\\User Data\",\n",
    "        \"Mac\": r\"~/Library/Application Support/Google/Chrome\",\n",
    "        \"Linux\": r\"~/.config/google-chrome\"\n",
    "    }\n",
    "    bookmarks_file_name: str = \"Bookmarks\""
   ]
  },
  {
   "cell_type": "markdown",
   "metadata": {},
   "source": [
    "Seeing if it works fine:"
   ]
  },
  {
   "cell_type": "code",
   "execution_count": null,
   "metadata": {},
   "outputs": [
    {
     "name": "stderr",
     "output_type": "stream",
     "text": [
      "\u001b[32m2024-09-19 17:03:47.418\u001b[0m | \u001b[1mINFO    \u001b[0m | \u001b[36m__main__\u001b[0m:\u001b[36m__init__\u001b[0m:\u001b[36m16\u001b[0m - \u001b[1mInitialized Chrome browser on Windows\u001b[0m\n",
      "\u001b[32m2024-09-19 17:03:47.418\u001b[0m | \u001b[1mINFO    \u001b[0m | \u001b[36m__main__\u001b[0m:\u001b[36m__init__\u001b[0m:\u001b[36m17\u001b[0m - \u001b[1mUser bookmark directory path: C:\\Users\\ratniel.kokane\\AppData\\Local\\Google\\Chrome\\User Data\u001b[0m\n",
      "\u001b[32m2024-09-19 17:03:47.667\u001b[0m | \u001b[33m\u001b[1mWARNING \u001b[0m | \u001b[36m__main__\u001b[0m:\u001b[36mextract_bookmarks\u001b[0m:\u001b[36m84\u001b[0m - \u001b[33m\u001b[1mNo bookmarks found in Chrome\u001b[0m\n"
     ]
    }
   ],
   "source": [
    "chrome = ChromeBrowser()\n",
    "chrome_bookmarks = chrome.extract_bookmarks()"
   ]
  },
  {
   "cell_type": "markdown",
   "metadata": {},
   "source": [
    "Edge browser:"
   ]
  },
  {
   "cell_type": "code",
   "execution_count": null,
   "metadata": {},
   "outputs": [],
   "source": [
    "#|export\n",
    "class EdgeBrowser(ChromiumBrowser):\n",
    "    name: str = \"Microsoft Edge\"\n",
    "    user_data_dirs: Dict[str, str] = {\n",
    "        \"Windows\": r\"~\\AppData\\Local\\Microsoft\\Edge\\User Data\",\n",
    "        \"Mac\": r\"~/Library/Application Support/Microsoft Edge\",\n",
    "        \"Linux\": r\"~/.config/microsoft-edge\"\n",
    "    }\n",
    "    bookmarks_file_name: str = \"Bookmarks\""
   ]
  },
  {
   "cell_type": "code",
   "execution_count": null,
   "metadata": {},
   "outputs": [
    {
     "name": "stderr",
     "output_type": "stream",
     "text": [
      "\u001b[32m2024-09-19 17:03:47.804\u001b[0m | \u001b[1mINFO    \u001b[0m | \u001b[36m__main__\u001b[0m:\u001b[36m__init__\u001b[0m:\u001b[36m16\u001b[0m - \u001b[1mInitialized Microsoft Edge browser on Windows\u001b[0m\n",
      "\u001b[32m2024-09-19 17:03:47.804\u001b[0m | \u001b[1mINFO    \u001b[0m | \u001b[36m__main__\u001b[0m:\u001b[36m__init__\u001b[0m:\u001b[36m17\u001b[0m - \u001b[1mUser bookmark directory path: C:\\Users\\ratniel.kokane\\AppData\\Local\\Microsoft\\Edge\\User Data\u001b[0m\n",
      "\u001b[32m2024-09-19 17:03:48.968\u001b[0m | \u001b[1mINFO    \u001b[0m | \u001b[36m__main__\u001b[0m:\u001b[36mextract_bookmarks\u001b[0m:\u001b[36m86\u001b[0m - \u001b[1mExtracted 69 bookmarks\u001b[0m\n"
     ]
    }
   ],
   "source": [
    "edge = EdgeBrowser()\n",
    "edge_bookmarks = edge.extract_bookmarks()"
   ]
  },
  {
   "cell_type": "markdown",
   "metadata": {},
   "source": [
    "Brave:"
   ]
  },
  {
   "cell_type": "code",
   "execution_count": null,
   "metadata": {},
   "outputs": [],
   "source": [
    "class BraveBrowser(ChromiumBrowser):\n",
    "    name: str = \"Brave\"\n",
    "    user_data_dirs: Dict[str, str] = {\n",
    "        \"Windows\": r\"~\\AppData\\Local\\BraveSoftware\\Brave-Browser\",\n",
    "        \"Mac\": r\"~/Library/Application Support/BraveSoftware/Brave-Browser\",\n",
    "        \"Linux\": r\"~/.config/BraveSoftware/Brave-Browser\"\n",
    "    }\n",
    "    bookmarks_file_name: str = \"Bookmarks\""
   ]
  }
 ],
 "metadata": {
  "kernelspec": {
   "display_name": "python3",
   "language": "python",
   "name": "python3"
  }
 },
 "nbformat": 4,
 "nbformat_minor": 2
}
